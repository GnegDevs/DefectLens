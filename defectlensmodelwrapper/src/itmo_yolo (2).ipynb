{
  "cells": [
    {
      "cell_type": "markdown",
      "source": [
        "# Создание формата .yaml и архитектуры данных для YOLO"
      ],
      "metadata": {
        "id": "Kq4M1Nt8AV0l"
      }
    },
    {
      "cell_type": "code",
      "execution_count": 8,
      "metadata": {
        "id": "2Cu-m1UkJrY_"
      },
      "outputs": [],
      "source": [
        "import os\n",
        "import pandas as pd\n",
        "from sklearn.model_selection import train_test_split\n",
        "\n",
        "csv_file_path = '/content/drive/MyDrive/data (1).csv'\n",
        "data = pd.read_csv(csv_file_path)\n",
        "\n",
        "train_data, val_data = train_test_split(data, test_size=0.2, random_state=42)"
      ]
    },
    {
      "cell_type": "code",
      "execution_count": 10,
      "metadata": {
        "colab": {
          "base_uri": "https://localhost:8080/"
        },
        "id": "g8gkk4SRFgJW",
        "outputId": "bd4c7d72-1e53-401c-bcb7-9c7a34794695"
      },
      "outputs": [
        {
          "output_type": "stream",
          "name": "stdout",
          "text": [
            "Структура папок и файлы меток успешно созданы!\n"
          ]
        }
      ],
      "source": [
        "import os\n",
        "import shutil\n",
        "\n",
        "base_dir = 'data'\n",
        "os.makedirs(os.path.join(base_dir, 'images', 'train'), exist_ok=True)\n",
        "os.makedirs(os.path.join(base_dir, 'images', 'val'), exist_ok=True)\n",
        "os.makedirs(os.path.join(base_dir, 'labels', 'train'), exist_ok=True)\n",
        "os.makedirs(os.path.join(base_dir, 'labels', 'val'), exist_ok=True)\n",
        "\n",
        "# Функция для преобразования данных в формат YOLO\n",
        "def convert_to_yolo_format(row):\n",
        "    img_width, img_height = 1920, 1080\n",
        "    x_center = (row['x_left_bottom'] + row['length'] / 2) / img_width\n",
        "    y_center = (row['y_left_bottom'] + row['width'] / 2) / img_height\n",
        "    width = row['length'] / img_width\n",
        "    height = row['width'] / img_height\n",
        "    return f\"{row['main_class']} {x_center} {y_center} {width} {height}\\n\"\n",
        "\n",
        "for index, row in train_data.iterrows():\n",
        "    shutil.copy(row['path'], os.path.join(base_dir, 'images', 'train', os.path.basename(row['path'])))\n",
        "\n",
        "    label = convert_to_yolo_format(row)\n",
        "    with open(os.path.join(base_dir, 'labels', 'train', os.path.basename(row['filename']).replace('.jpg', '.txt')), 'w') as f:\n",
        "        f.write(label)\n",
        "\n",
        "for index, row in val_data.iterrows():\n",
        "    shutil.copy(row['path'], os.path.join(base_dir, 'images', 'val', os.path.basename(row['path'])))\n",
        "\n",
        "    label = convert_to_yolo_format(row)\n",
        "    with open(os.path.join(base_dir, 'labels', 'val', os.path.basename(row['path']).replace('.jpg', '.txt')), 'w') as f:\n",
        "        f.write(label)\n",
        "\n",
        "print(\"Структура папок и файлы меток успешно созданы!\")"
      ]
    },
    {
      "cell_type": "code",
      "execution_count": 11,
      "metadata": {
        "colab": {
          "base_uri": "https://localhost:8080/"
        },
        "id": "NYTGl2NRX8r2",
        "outputId": "a005af65-ed73-4130-de12-df054839d9bf"
      },
      "outputs": [
        {
          "output_type": "stream",
          "name": "stdout",
          "text": [
            "Файл data.yaml успешно создан!\n"
          ]
        }
      ],
      "source": [
        "import yaml\n",
        "\n",
        "# Создание конфигурационного файла YAML\n",
        "config = {\n",
        "    'train': os.path.join(base_dir, 'images', 'train'),\n",
        "    'val': os.path.join(base_dir, 'images', 'val'),\n",
        "    'nc': 6,\n",
        "    'names': ['class_0', 'class_1', 'class_2', 'class_3', 'class_4', 'class_5']\n",
        "}\n",
        "\n",
        "with open('data.yaml', 'w') as yaml_file:\n",
        "    yaml.dump(config, yaml_file)\n",
        "\n",
        "print(\"Файл data.yaml успешно создан!\")\n",
        "# ПОСЛЕ СОЗДАНИЯ КОРРЕКТИРУЕТСЯ ПУТЬ (PATH)\n"
      ]
    },
    {
      "cell_type": "markdown",
      "source": [
        "# Обновление базы данных"
      ],
      "metadata": {
        "id": "34nQLNp08aIJ"
      }
    },
    {
      "cell_type": "code",
      "source": [
        "import os\n",
        "import shutil\n",
        "# Убираем ненужный класс из другой базы данных\n",
        "def remove_depression_labels(images_dir, labels_dir):\n",
        "    for label_file in os.listdir(labels_dir):\n",
        "        label_path = os.path.join(labels_dir, label_file)\n",
        "        with open(label_path, 'r') as file:\n",
        "            lines = file.readlines()\n",
        "\n",
        "        if any('2' in line for line in lines):\n",
        "            os.remove(label_path)\n",
        "            img_file = label_file.replace('.txt', '.jpg')\n",
        "            img_path = os.path.join(images_dir, img_file)\n",
        "            if os.path.exists(img_path):\n",
        "                os.remove(img_path)\n",
        "\n",
        "remove_depression_labels('/content/drive/MyDrive/2-defect-detection.v3i.yolov11/train/images', '/content/drive/MyDrive/2-defect-detection.v3i.yolov11/train/labels')\n",
        "remove_depression_labels('/content/drive/MyDrive/2-defect-detection.v3i.yolov11/val/images', '/content/drive/MyDrive/2-defect-detection.v3i.yolov11/val/labels')\n"
      ],
      "metadata": {
        "id": "hhubVxgf8e-A"
      },
      "execution_count": 13,
      "outputs": []
    },
    {
      "cell_type": "code",
      "source": [
        "import os\n",
        "import shutil\n",
        "# Сливаем данные в одну базу\n",
        "def transfer_data(src_images_dir, src_labels_dir, dest_images_dir, dest_labels_dir):\n",
        "    os.makedirs(dest_images_dir, exist_ok=True)\n",
        "    os.makedirs(dest_labels_dir, exist_ok=True)\n",
        "\n",
        "    for image_file in os.listdir(src_images_dir):\n",
        "        src_image_path = os.path.join(src_images_dir, image_file)\n",
        "        dest_image_path = os.path.join(dest_images_dir, image_file)\n",
        "        shutil.copy(src_image_path, dest_image_path)\n",
        "\n",
        "    for label_file in os.listdir(src_labels_dir):\n",
        "        src_label_path = os.path.join(src_labels_dir, label_file)\n",
        "        dest_label_path = os.path.join(dest_labels_dir, label_file)\n",
        "        shutil.copy(src_label_path, dest_label_path)\n",
        "\n",
        "src_train_images = '/content/drive/MyDrive/2-defect-detection.v3i.yolov11/train/images'\n",
        "src_train_labels = '/content/drive/MyDrive/2-defect-detection.v3i.yolov11/train/labels'\n",
        "dest_train_images = '/content/data/images/train'\n",
        "dest_train_labels = '/content/data/images/val'\n",
        "\n",
        "src_val_images = '/content/drive/MyDrive/2-defect-detection.v3i.yolov11/val/images'\n",
        "src_val_labels = '/content/drive/MyDrive/2-defect-detection.v3i.yolov11/val/labels'\n",
        "dest_val_images = '/content/data/images/val'\n",
        "dest_val_labels = '/content/data/labels/val'\n",
        "\n",
        "transfer_data(src_train_images, src_train_labels, dest_train_images, dest_train_labels)\n",
        "\n",
        "transfer_data(src_val_images, src_val_labels, dest_val_images, dest_val_labels)\n"
      ],
      "metadata": {
        "id": "kQTsz3CFECgf"
      },
      "execution_count": 14,
      "outputs": []
    },
    {
      "cell_type": "markdown",
      "source": [
        "# Обучение модели YOLO"
      ],
      "metadata": {
        "id": "aS-mv9hNAhnc"
      }
    },
    {
      "cell_type": "code",
      "source": [
        "pip install ultralytics"
      ],
      "metadata": {
        "colab": {
          "base_uri": "https://localhost:8080/"
        },
        "id": "zejhlutfMkbF",
        "outputId": "ce6b85af-ad99-4fca-9b8a-fc75c997edd7"
      },
      "execution_count": 1,
      "outputs": [
        {
          "output_type": "stream",
          "name": "stdout",
          "text": [
            "Collecting ultralytics\n",
            "  Downloading ultralytics-8.3.11-py3-none-any.whl.metadata (34 kB)\n",
            "Requirement already satisfied: numpy>=1.23.0 in /usr/local/lib/python3.10/dist-packages (from ultralytics) (1.26.4)\n",
            "Requirement already satisfied: matplotlib>=3.3.0 in /usr/local/lib/python3.10/dist-packages (from ultralytics) (3.7.1)\n",
            "Requirement already satisfied: opencv-python>=4.6.0 in /usr/local/lib/python3.10/dist-packages (from ultralytics) (4.10.0.84)\n",
            "Requirement already satisfied: pillow>=7.1.2 in /usr/local/lib/python3.10/dist-packages (from ultralytics) (10.4.0)\n",
            "Requirement already satisfied: pyyaml>=5.3.1 in /usr/local/lib/python3.10/dist-packages (from ultralytics) (6.0.2)\n",
            "Requirement already satisfied: requests>=2.23.0 in /usr/local/lib/python3.10/dist-packages (from ultralytics) (2.32.3)\n",
            "Requirement already satisfied: scipy>=1.4.1 in /usr/local/lib/python3.10/dist-packages (from ultralytics) (1.13.1)\n",
            "Requirement already satisfied: torch>=1.8.0 in /usr/local/lib/python3.10/dist-packages (from ultralytics) (2.4.1+cu121)\n",
            "Requirement already satisfied: torchvision>=0.9.0 in /usr/local/lib/python3.10/dist-packages (from ultralytics) (0.19.1+cu121)\n",
            "Requirement already satisfied: tqdm>=4.64.0 in /usr/local/lib/python3.10/dist-packages (from ultralytics) (4.66.5)\n",
            "Requirement already satisfied: psutil in /usr/local/lib/python3.10/dist-packages (from ultralytics) (5.9.5)\n",
            "Requirement already satisfied: py-cpuinfo in /usr/local/lib/python3.10/dist-packages (from ultralytics) (9.0.0)\n",
            "Requirement already satisfied: pandas>=1.1.4 in /usr/local/lib/python3.10/dist-packages (from ultralytics) (2.2.2)\n",
            "Requirement already satisfied: seaborn>=0.11.0 in /usr/local/lib/python3.10/dist-packages (from ultralytics) (0.13.2)\n",
            "Collecting ultralytics-thop>=2.0.0 (from ultralytics)\n",
            "  Downloading ultralytics_thop-2.0.9-py3-none-any.whl.metadata (9.3 kB)\n",
            "Requirement already satisfied: contourpy>=1.0.1 in /usr/local/lib/python3.10/dist-packages (from matplotlib>=3.3.0->ultralytics) (1.3.0)\n",
            "Requirement already satisfied: cycler>=0.10 in /usr/local/lib/python3.10/dist-packages (from matplotlib>=3.3.0->ultralytics) (0.12.1)\n",
            "Requirement already satisfied: fonttools>=4.22.0 in /usr/local/lib/python3.10/dist-packages (from matplotlib>=3.3.0->ultralytics) (4.54.1)\n",
            "Requirement already satisfied: kiwisolver>=1.0.1 in /usr/local/lib/python3.10/dist-packages (from matplotlib>=3.3.0->ultralytics) (1.4.7)\n",
            "Requirement already satisfied: packaging>=20.0 in /usr/local/lib/python3.10/dist-packages (from matplotlib>=3.3.0->ultralytics) (24.1)\n",
            "Requirement already satisfied: pyparsing>=2.3.1 in /usr/local/lib/python3.10/dist-packages (from matplotlib>=3.3.0->ultralytics) (3.1.4)\n",
            "Requirement already satisfied: python-dateutil>=2.7 in /usr/local/lib/python3.10/dist-packages (from matplotlib>=3.3.0->ultralytics) (2.8.2)\n",
            "Requirement already satisfied: pytz>=2020.1 in /usr/local/lib/python3.10/dist-packages (from pandas>=1.1.4->ultralytics) (2024.2)\n",
            "Requirement already satisfied: tzdata>=2022.7 in /usr/local/lib/python3.10/dist-packages (from pandas>=1.1.4->ultralytics) (2024.2)\n",
            "Requirement already satisfied: charset-normalizer<4,>=2 in /usr/local/lib/python3.10/dist-packages (from requests>=2.23.0->ultralytics) (3.3.2)\n",
            "Requirement already satisfied: idna<4,>=2.5 in /usr/local/lib/python3.10/dist-packages (from requests>=2.23.0->ultralytics) (3.10)\n",
            "Requirement already satisfied: urllib3<3,>=1.21.1 in /usr/local/lib/python3.10/dist-packages (from requests>=2.23.0->ultralytics) (2.2.3)\n",
            "Requirement already satisfied: certifi>=2017.4.17 in /usr/local/lib/python3.10/dist-packages (from requests>=2.23.0->ultralytics) (2024.8.30)\n",
            "Requirement already satisfied: filelock in /usr/local/lib/python3.10/dist-packages (from torch>=1.8.0->ultralytics) (3.16.1)\n",
            "Requirement already satisfied: typing-extensions>=4.8.0 in /usr/local/lib/python3.10/dist-packages (from torch>=1.8.0->ultralytics) (4.12.2)\n",
            "Requirement already satisfied: sympy in /usr/local/lib/python3.10/dist-packages (from torch>=1.8.0->ultralytics) (1.13.3)\n",
            "Requirement already satisfied: networkx in /usr/local/lib/python3.10/dist-packages (from torch>=1.8.0->ultralytics) (3.3)\n",
            "Requirement already satisfied: jinja2 in /usr/local/lib/python3.10/dist-packages (from torch>=1.8.0->ultralytics) (3.1.4)\n",
            "Requirement already satisfied: fsspec in /usr/local/lib/python3.10/dist-packages (from torch>=1.8.0->ultralytics) (2024.6.1)\n",
            "Requirement already satisfied: six>=1.5 in /usr/local/lib/python3.10/dist-packages (from python-dateutil>=2.7->matplotlib>=3.3.0->ultralytics) (1.16.0)\n",
            "Requirement already satisfied: MarkupSafe>=2.0 in /usr/local/lib/python3.10/dist-packages (from jinja2->torch>=1.8.0->ultralytics) (2.1.5)\n",
            "Requirement already satisfied: mpmath<1.4,>=1.1.0 in /usr/local/lib/python3.10/dist-packages (from sympy->torch>=1.8.0->ultralytics) (1.3.0)\n",
            "Downloading ultralytics-8.3.11-py3-none-any.whl (882 kB)\n",
            "\u001b[2K   \u001b[90m━━━━━━━━━━━━━━━━━━━━━━━━━━━━━━━━━━━━━━━━\u001b[0m \u001b[32m882.7/882.7 kB\u001b[0m \u001b[31m4.9 MB/s\u001b[0m eta \u001b[36m0:00:00\u001b[0m\n",
            "\u001b[?25hDownloading ultralytics_thop-2.0.9-py3-none-any.whl (26 kB)\n",
            "Installing collected packages: ultralytics-thop, ultralytics\n",
            "Successfully installed ultralytics-8.3.11 ultralytics-thop-2.0.9\n"
          ]
        }
      ]
    },
    {
      "cell_type": "code",
      "execution_count": null,
      "metadata": {
        "id": "_-ABq343oMSi"
      },
      "outputs": [],
      "source": [
        "import os\n",
        "from ultralytics import YOLO\n",
        "\n",
        "data_yaml_path = '/content/drive/MyDrive/data/data (1).yaml'\n",
        "epochs = 50\n",
        "\n",
        "# Загрузка предобученной модели YOLOv11\n",
        "model = YOLO(\"yolo11m.pt\")\n",
        "\n",
        "results = model.train(data=data_yaml_path, epochs=epochs, batch=-1)\n",
        "\n",
        "# Сохранение модели после обучения\n",
        "model.save('yolov11m_model_50.pt')\n",
        "\n",
        "print(\"Обучение завершено! Модель сохранена как yolov11m_model_50.pt\")"
      ]
    },
    {
      "cell_type": "markdown",
      "source": [
        "# Метрика mAP и получение предсказаний"
      ],
      "metadata": {
        "id": "QOzM0fjGAmjn"
      }
    },
    {
      "cell_type": "code",
      "source": [
        "import cv2\n",
        "import numpy as np\n",
        "from ultralytics import YOLO\n",
        "\n",
        "# Функция для получения предсказаний из модели YOLOv11x\n",
        "model = YOLO('/PATH/TO/yolov11x_custom_model_200.pt')\n",
        "\n",
        "def get_yolo_predictions(image_path):\n",
        "    image = cv2.imread(image_path)\n",
        "    results = model.predict(source=image, conf=0.01)\n",
        "    predictions = []\n",
        "\n",
        "    for result in results:\n",
        "        for box in result.boxes:\n",
        "            x_min, y_min, x_max, y_max = box.xyxy[0].tolist()\n",
        "            class_id = int(box.cls[0])\n",
        "            confidence = box.conf[0].item()\n",
        "\n",
        "            predictions.append([x_min, y_min, x_max, y_max, class_id, confidence])\n",
        "\n",
        "    return predictions\n",
        "\n",
        "imgs = ['PATH/TO/IMAGE1', 'PATH/TO/IMAGE2']\n",
        "for img in imgs:\n",
        "  pred = get_yolo_predictions(img)\n",
        "  if len(pred) != 0:\n",
        "      print(f'Координаты рамки:', {pred[0], pred[1], pred[2], pred[3]})\n",
        "      print(f'ID класса:', {pred[4]})\n",
        "      print(f'Уверенность модели:', {pred[5]})\n",
        "  else:\n",
        "      print('Проблем не обнаружено')"
      ],
      "metadata": {
        "colab": {
          "base_uri": "https://localhost:8080/"
        },
        "id": "AQ0hqife7qVN",
        "outputId": "40b623e9-f808-4dcf-c80c-3462bc4e88f6"
      },
      "execution_count": 24,
      "outputs": [
        {
          "output_type": "stream",
          "name": "stdout",
          "text": [
            "\n",
            "0: 640x480 (no detections), 2667.1ms\n",
            "Speed: 4.5ms preprocess, 2667.1ms inference, 0.8ms postprocess per image at shape (1, 3, 640, 480)\n",
            "Проблем не обнаружено\n",
            "\n",
            "0: 640x480 (no detections), 4556.1ms\n",
            "Speed: 7.5ms preprocess, 4556.1ms inference, 0.7ms postprocess per image at shape (1, 3, 640, 480)\n",
            "Проблем не обнаружено\n"
          ]
        }
      ]
    },
    {
      "cell_type": "code",
      "source": [
        "# Функция для загрузки истинных меток\n",
        "def load_ground_truth(label_file):\n",
        "    with open(label_file, 'r') as f:\n",
        "        lines = f.readlines()\n",
        "    ground_truths = []\n",
        "    for line in lines:\n",
        "        parts = line.strip().split()\n",
        "        class_id = int(parts[0])\n",
        "        x_center = float(parts[1])\n",
        "        y_center = float(parts[2])\n",
        "        width = float(parts[3])\n",
        "        height = float(parts[4])\n",
        "\n",
        "        # Преобразуем в форматы [x_min, y_min, x_max, y_max]\n",
        "        x_min = x_center - width / 2\n",
        "        y_min = y_center - height / 2\n",
        "        x_max = x_center + width / 2\n",
        "        y_max = y_center + height / 2\n",
        "\n",
        "        ground_truths.append([x_min, y_min, x_max, y_max, class_id])\n",
        "    return ground_truths"
      ],
      "metadata": {
        "id": "ygUIYHCv7vjn"
      },
      "execution_count": 10,
      "outputs": []
    },
    {
      "cell_type": "code",
      "source": [
        "import os\n",
        "import numpy as np\n",
        "from sklearn.metrics import average_precision_score\n",
        "\n",
        "def calculate_iou(box1, box2):\n",
        "    \"\"\"Вычисляет Intersection over Union (IoU) для двух прямоугольников.\"\"\"\n",
        "    x_min = max(box1[0], box2[0])\n",
        "    y_min = max(box1[1], box2[1])\n",
        "    x_max = min(box1[2], box2[2])\n",
        "    y_max = min(box1[3], box2[3])\n",
        "\n",
        "    intersection_area = max(0, x_max - x_min) * max(0, y_max - y_min)\n",
        "    box1_area = (box1[2] - box1[0]) * (box1[3] - box1[1])\n",
        "    box2_area = (box2[2] - box2[0]) * (box2[3] - box2[1])\n",
        "\n",
        "    union_area = box1_area + box2_area - intersection_area\n",
        "    return intersection_area / union_area if union_area > 0 else 0\n",
        "\n",
        "def calculate_map(all_predictions, all_ground_truths, iou_threshold=0.5):\n",
        "    \"\"\"Вычисляет mAP для списка предсказаний и истинных меток.\"\"\"\n",
        "    # Сортируем предсказания по уверенности (предполагается, что предсказания содержат уверенность)\n",
        "    all_predictions.sort(key=lambda x: x[4], reverse=True)  # Предполагается, что уверенность находится в 5-м элементе\n",
        "\n",
        "    true_positives = np.zeros(len(all_predictions))\n",
        "    false_positives = np.zeros(len(all_predictions))\n",
        "    num_ground_truths = len(all_ground_truths)\n",
        "\n",
        "    detected = set()  # Для отслеживания обнаруженных истинных меток\n",
        "\n",
        "    for i, pred in enumerate(all_predictions):\n",
        "        pred_box = pred[:4]  # [x_min, y_min, x_max, y_max]\n",
        "        pred_class = pred[5]  # Класс предсказания\n",
        "\n",
        "        # Проверяем, есть ли совпадение с истинными метками\n",
        "        best_iou = 0\n",
        "        best_gt_index = -1\n",
        "\n",
        "        for j, gt in enumerate(all_ground_truths):\n",
        "            if gt[4] == pred_class and j not in detected:  # Проверяем класс и не был ли обнаружен\n",
        "                iou = calculate_iou(pred_box, gt[:4])\n",
        "                if iou > best_iou:\n",
        "                    best_iou = iou\n",
        "                    best_gt_index = j\n",
        "\n",
        "        if best_iou >= iou_threshold:\n",
        "            true_positives[i] = 1\n",
        "            detected.add(best_gt_index)\n",
        "        else:\n",
        "            false_positives[i] = 1\n",
        "\n",
        "    # Вычисляем precision и recall\n",
        "    cumulative_tp = np.cumsum(true_positives)\n",
        "    cumulative_fp = np.cumsum(false_positives)\n",
        "\n",
        "    precision = cumulative_tp / (cumulative_tp + cumulative_fp + 1e-6)  # Добавляем малое значение для избежания деления на ноль\n",
        "    recall = cumulative_tp / num_ground_truths if num_ground_truths > 0 else 0\n",
        "\n",
        "    # Вычисляем mAP\n",
        "    ap = average_precision_score(y_true=[1] * num_ground_truths + [0] * len(all_predictions),\n",
        "                                 y_score=list(precision) + list(precision))\n",
        "    return ap\n",
        "\n",
        "\n",
        "# Пример использования функции\n",
        "test_images_dir = '/content/data/images/val'\n",
        "test_labels_dir = '/content/data/labels/val'\n",
        "\n",
        "all_predictions = []\n",
        "all_ground_truths = []\n",
        "\n",
        "for filename in os.listdir(test_images_dir):\n",
        "    if filename.endswith('.jpg'):\n",
        "        image_path = os.path.join(test_images_dir, filename)\n",
        "        label_file = os.path.join(test_labels_dir, filename.replace('.jpg', '.txt'))\n",
        "\n",
        "        # Получаем предсказания модели\n",
        "        predictions = get_yolo_predictions(image_path)  # Предполагается, что эта функция возвращает предсказания в формате [x_min, y_min, x_max, y_max, confidence, class_id]\n",
        "\n",
        "        # Загружаем истинные метки\n",
        "        ground_truths = load_ground_truth(label_file)\n",
        "\n",
        "        all_predictions.extend(predictions)\n",
        "        all_ground_truths.extend(ground_truths)\n",
        "\n",
        "# Вычисляем mAP\n",
        "map_score = calculate_map(all_predictions, all_ground_truths)\n",
        "print(f\"Mean Average Precision (mAP): {map_score}\")"
      ],
      "metadata": {
        "colab": {
          "base_uri": "https://localhost:8080/"
        },
        "id": "DT--mqBU_pdt",
        "outputId": "6da00c45-f7ba-444b-ca80-2950433e54cf"
      },
      "execution_count": 25,
      "outputs": [
        {
          "output_type": "stream",
          "name": "stdout",
          "text": [
            "Mean Average Precision (mAP): 0.8628129629\n"
          ]
        }
      ]
    },
    {
      "cell_type": "code",
      "source": [],
      "metadata": {
        "id": "1xKGzoYTu1g_"
      },
      "execution_count": null,
      "outputs": []
    }
  ],
  "metadata": {
    "accelerator": "GPU",
    "colab": {
      "gpuType": "T4",
      "provenance": [],
      "collapsed_sections": [
        "QOzM0fjGAmjn"
      ]
    },
    "kernelspec": {
      "display_name": "Python 3",
      "name": "python3"
    },
    "language_info": {
      "name": "python"
    }
  },
  "nbformat": 4,
  "nbformat_minor": 0
}